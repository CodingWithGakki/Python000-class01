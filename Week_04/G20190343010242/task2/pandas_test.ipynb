{
 "nbformat": 4,
 "nbformat_minor": 2,
 "metadata": {
  "language_info": {
   "name": "python",
   "codemirror_mode": {
    "name": "ipython",
    "version": 3
   },
   "version": "3.7.3-final"
  },
  "orig_nbformat": 2,
  "file_extension": ".py",
  "mimetype": "text/x-python",
  "name": "python",
  "npconvert_exporter": "python",
  "pygments_lexer": "ipython3",
  "version": 3,
  "kernelspec": {
   "name": "python3",
   "language": "python",
   "display_name": "Python 3"
  },
  "pycharm": {
   "stem_cell": {
    "cell_type": "raw",
    "source": [],
    "metadata": {
     "collapsed": false
    }
   }
  }
 },
 "cells": [
  {
   "cell_type": "code",
   "execution_count": 1,
   "metadata": {
    "pycharm": {
     "is_executing": false
    }
   },
   "outputs": [],
   "source": [
    "data = [\n",
    "    {'id': 1, 'name': 'name1', 'age': 25},\n",
    "    {'id': 5, 'name': 'name2', 'age': 28},\n",
    "    {'id': 8, 'name': 'name3', 'age': 30},\n",
    "    {'id': 15, 'name': 'name4', 'age': 35},\n",
    "    {'id': 2, 'name': 'name5', 'age': 42},\n",
    "    {'id': 440, 'name': 'name6', 'age': 36},\n",
    "    {'id': 1005, 'name': 'name7', 'age': 19},\n",
    "    {'id': 19, 'name': 'name8', 'age': 23},\n",
    "    {'id': 23, 'name': 'name9', 'age': 55},\n",
    "    {'id': 38, 'name': 'name10', 'age': 70},\n",
    "    {'id': 16, 'name': 'name11', 'age': 26},\n",
    "    {'id': 29, 'name': 'name12', 'age': 41}\n",
    "]\n",
    "\n"
   ]
  },
  {
   "cell_type": "code",
   "execution_count": 5,
   "metadata": {
    "pycharm": {
     "is_executing": false
    }
   },
   "outputs": [
    {
     "data": {
      "text/plain": "      id    name  age\n0      1   name1   25\n1      5   name2   28\n2      8   name3   30\n3     15   name4   35\n4      2   name5   42\n5    440   name6   36\n6   1005   name7   19\n7     19   name8   23\n8     23   name9   55\n9     38  name10   70\n10    16  name11   26\n11    29  name12   41",
      "text/html": "<div>\n<style scoped>\n    .dataframe tbody tr th:only-of-type {\n        vertical-align: middle;\n    }\n\n    .dataframe tbody tr th {\n        vertical-align: top;\n    }\n\n    .dataframe thead th {\n        text-align: right;\n    }\n</style>\n<table border=\"1\" class=\"dataframe\">\n  <thead>\n    <tr style=\"text-align: right;\">\n      <th></th>\n      <th>id</th>\n      <th>name</th>\n      <th>age</th>\n    </tr>\n  </thead>\n  <tbody>\n    <tr>\n      <th>0</th>\n      <td>1</td>\n      <td>name1</td>\n      <td>25</td>\n    </tr>\n    <tr>\n      <th>1</th>\n      <td>5</td>\n      <td>name2</td>\n      <td>28</td>\n    </tr>\n    <tr>\n      <th>2</th>\n      <td>8</td>\n      <td>name3</td>\n      <td>30</td>\n    </tr>\n    <tr>\n      <th>3</th>\n      <td>15</td>\n      <td>name4</td>\n      <td>35</td>\n    </tr>\n    <tr>\n      <th>4</th>\n      <td>2</td>\n      <td>name5</td>\n      <td>42</td>\n    </tr>\n    <tr>\n      <th>5</th>\n      <td>440</td>\n      <td>name6</td>\n      <td>36</td>\n    </tr>\n    <tr>\n      <th>6</th>\n      <td>1005</td>\n      <td>name7</td>\n      <td>19</td>\n    </tr>\n    <tr>\n      <th>7</th>\n      <td>19</td>\n      <td>name8</td>\n      <td>23</td>\n    </tr>\n    <tr>\n      <th>8</th>\n      <td>23</td>\n      <td>name9</td>\n      <td>55</td>\n    </tr>\n    <tr>\n      <th>9</th>\n      <td>38</td>\n      <td>name10</td>\n      <td>70</td>\n    </tr>\n    <tr>\n      <th>10</th>\n      <td>16</td>\n      <td>name11</td>\n      <td>26</td>\n    </tr>\n    <tr>\n      <th>11</th>\n      <td>29</td>\n      <td>name12</td>\n      <td>41</td>\n    </tr>\n  </tbody>\n</table>\n</div>"
     },
     "metadata": {},
     "output_type": "execute_result",
     "execution_count": 5
    }
   ],
   "source": [
    "import pandas as pd\n",
    "\n",
    "df_data = pd.DataFrame(data)\n",
    "# 1. select * from data\n",
    "df_data[:]"
   ]
  },
  {
   "cell_type": "code",
   "execution_count": 6,
   "outputs": [
    {
     "data": {
      "text/plain": "     id    name  age\n0     1   name1   25\n1     5   name2   28\n2     8   name3   30\n3    15   name4   35\n4     2   name5   42\n5   440   name6   36\n6  1005   name7   19\n7    19   name8   23\n8    23   name9   55\n9    38  name10   70",
      "text/html": "<div>\n<style scoped>\n    .dataframe tbody tr th:only-of-type {\n        vertical-align: middle;\n    }\n\n    .dataframe tbody tr th {\n        vertical-align: top;\n    }\n\n    .dataframe thead th {\n        text-align: right;\n    }\n</style>\n<table border=\"1\" class=\"dataframe\">\n  <thead>\n    <tr style=\"text-align: right;\">\n      <th></th>\n      <th>id</th>\n      <th>name</th>\n      <th>age</th>\n    </tr>\n  </thead>\n  <tbody>\n    <tr>\n      <th>0</th>\n      <td>1</td>\n      <td>name1</td>\n      <td>25</td>\n    </tr>\n    <tr>\n      <th>1</th>\n      <td>5</td>\n      <td>name2</td>\n      <td>28</td>\n    </tr>\n    <tr>\n      <th>2</th>\n      <td>8</td>\n      <td>name3</td>\n      <td>30</td>\n    </tr>\n    <tr>\n      <th>3</th>\n      <td>15</td>\n      <td>name4</td>\n      <td>35</td>\n    </tr>\n    <tr>\n      <th>4</th>\n      <td>2</td>\n      <td>name5</td>\n      <td>42</td>\n    </tr>\n    <tr>\n      <th>5</th>\n      <td>440</td>\n      <td>name6</td>\n      <td>36</td>\n    </tr>\n    <tr>\n      <th>6</th>\n      <td>1005</td>\n      <td>name7</td>\n      <td>19</td>\n    </tr>\n    <tr>\n      <th>7</th>\n      <td>19</td>\n      <td>name8</td>\n      <td>23</td>\n    </tr>\n    <tr>\n      <th>8</th>\n      <td>23</td>\n      <td>name9</td>\n      <td>55</td>\n    </tr>\n    <tr>\n      <th>9</th>\n      <td>38</td>\n      <td>name10</td>\n      <td>70</td>\n    </tr>\n  </tbody>\n</table>\n</div>"
     },
     "metadata": {},
     "output_type": "execute_result",
     "execution_count": 6
    }
   ],
   "source": [
    "# 2. select * from data limit(10)\n",
    "df_data[:10]\n",
    "\n"
   ],
   "metadata": {
    "collapsed": false,
    "pycharm": {
     "name": "#%%\n",
     "is_executing": false
    }
   }
  },
  {
   "cell_type": "code",
   "execution_count": 7,
   "outputs": [
    {
     "data": {
      "text/plain": "0        1\n1        5\n2        8\n3       15\n4        2\n5      440\n6     1005\n7       19\n8       23\n9       38\n10      16\n11      29\nName: id, dtype: int64"
     },
     "metadata": {},
     "output_type": "execute_result",
     "execution_count": 7
    }
   ],
   "source": [
    "# 3. select id from data\n",
    "df_data['id']\n"
   ],
   "metadata": {
    "collapsed": false,
    "pycharm": {
     "name": "#%%\n",
     "is_executing": false
    }
   }
  },
  {
   "cell_type": "code",
   "execution_count": 8,
   "outputs": [
    {
     "data": {
      "text/plain": "12"
     },
     "metadata": {},
     "output_type": "execute_result",
     "execution_count": 8
    }
   ],
   "source": [
    "# 4. select count(id) from data\n",
    "len(df_data['id'])\n",
    "\n"
   ],
   "metadata": {
    "collapsed": false,
    "pycharm": {
     "name": "#%%\n",
     "is_executing": false
    }
   }
  },
  {
   "cell_type": "code",
   "execution_count": 9,
   "outputs": [
    {
     "data": {
      "text/plain": "     id    name  age\n3    15   name4   35\n4     2   name5   42\n5   440   name6   36\n8    23   name9   55\n9    38  name10   70\n11   29  name12   41",
      "text/html": "<div>\n<style scoped>\n    .dataframe tbody tr th:only-of-type {\n        vertical-align: middle;\n    }\n\n    .dataframe tbody tr th {\n        vertical-align: top;\n    }\n\n    .dataframe thead th {\n        text-align: right;\n    }\n</style>\n<table border=\"1\" class=\"dataframe\">\n  <thead>\n    <tr style=\"text-align: right;\">\n      <th></th>\n      <th>id</th>\n      <th>name</th>\n      <th>age</th>\n    </tr>\n  </thead>\n  <tbody>\n    <tr>\n      <th>3</th>\n      <td>15</td>\n      <td>name4</td>\n      <td>35</td>\n    </tr>\n    <tr>\n      <th>4</th>\n      <td>2</td>\n      <td>name5</td>\n      <td>42</td>\n    </tr>\n    <tr>\n      <th>5</th>\n      <td>440</td>\n      <td>name6</td>\n      <td>36</td>\n    </tr>\n    <tr>\n      <th>8</th>\n      <td>23</td>\n      <td>name9</td>\n      <td>55</td>\n    </tr>\n    <tr>\n      <th>9</th>\n      <td>38</td>\n      <td>name10</td>\n      <td>70</td>\n    </tr>\n    <tr>\n      <th>11</th>\n      <td>29</td>\n      <td>name12</td>\n      <td>41</td>\n    </tr>\n  </tbody>\n</table>\n</div>"
     },
     "metadata": {},
     "output_type": "execute_result",
     "execution_count": 9
    }
   ],
   "source": [
    "# 5. select * from data where id <1000 and age >30\n",
    "df_data.query('id<1000 and age>30')\n",
    "\n"
   ],
   "metadata": {
    "collapsed": false,
    "pycharm": {
     "name": "#%%\n",
     "is_executing": false
    }
   }
  },
  {
   "cell_type": "code",
   "execution_count": 11,
   "outputs": [
    {
     "data": {
      "text/plain": "id\n1    3\n2    2\n3    2\n4    1\n5    2\nName: orderid, dtype: int64"
     },
     "metadata": {},
     "output_type": "execute_result",
     "execution_count": 11
    }
   ],
   "source": [
    "# 6. select id, count(distinct orderid) from data group by id\n",
    "data2 = [\n",
    "    {'id': 1, 'orderid': 1},\n",
    "    {'id': 1, 'orderid': 2},\n",
    "    {'id': 1, 'orderid': 3},\n",
    "    {'id': 2, 'orderid': 4},\n",
    "    {'id': 2, 'orderid': 5},\n",
    "    {'id': 3, 'orderid': 6},\n",
    "    {'id': 3, 'orderid': 7},\n",
    "    {'id': 4, 'orderid': 8},\n",
    "    {'id': 5, 'orderid': 9},\n",
    "    {'id': 5, 'orderid': 10},\n",
    "]\n",
    "df_data2 = pd.DataFrame(data2)\n",
    "df_data2.groupby('id')['orderid'].count()"
   ],
   "metadata": {
    "collapsed": false,
    "pycharm": {
     "name": "#%%\n",
     "is_executing": false
    }
   }
  },
  {
   "cell_type": "code",
   "execution_count": 17,
   "outputs": [
    {
     "data": {
      "text/plain": "   id  id_left   name  id_right  age\n0   1        1  name1         2   39\n1   2        2  name2         3   43\n2   3        3  name3         4   28\n3   4        4  name4         5   19\n4   5        5  name5         6   52\n5   6        6  name6         7   36\n6   7        7  name7         8   62",
      "text/html": "<div>\n<style scoped>\n    .dataframe tbody tr th:only-of-type {\n        vertical-align: middle;\n    }\n\n    .dataframe tbody tr th {\n        vertical-align: top;\n    }\n\n    .dataframe thead th {\n        text-align: right;\n    }\n</style>\n<table border=\"1\" class=\"dataframe\">\n  <thead>\n    <tr style=\"text-align: right;\">\n      <th></th>\n      <th>id</th>\n      <th>id_left</th>\n      <th>name</th>\n      <th>id_right</th>\n      <th>age</th>\n    </tr>\n  </thead>\n  <tbody>\n    <tr>\n      <th>0</th>\n      <td>1</td>\n      <td>1</td>\n      <td>name1</td>\n      <td>2</td>\n      <td>39</td>\n    </tr>\n    <tr>\n      <th>1</th>\n      <td>2</td>\n      <td>2</td>\n      <td>name2</td>\n      <td>3</td>\n      <td>43</td>\n    </tr>\n    <tr>\n      <th>2</th>\n      <td>3</td>\n      <td>3</td>\n      <td>name3</td>\n      <td>4</td>\n      <td>28</td>\n    </tr>\n    <tr>\n      <th>3</th>\n      <td>4</td>\n      <td>4</td>\n      <td>name4</td>\n      <td>5</td>\n      <td>19</td>\n    </tr>\n    <tr>\n      <th>4</th>\n      <td>5</td>\n      <td>5</td>\n      <td>name5</td>\n      <td>6</td>\n      <td>52</td>\n    </tr>\n    <tr>\n      <th>5</th>\n      <td>6</td>\n      <td>6</td>\n      <td>name6</td>\n      <td>7</td>\n      <td>36</td>\n    </tr>\n    <tr>\n      <th>6</th>\n      <td>7</td>\n      <td>7</td>\n      <td>name7</td>\n      <td>8</td>\n      <td>62</td>\n    </tr>\n  </tbody>\n</table>\n</div>"
     },
     "metadata": {},
     "output_type": "execute_result",
     "execution_count": 17
    }
   ],
   "source": [
    "# 7. select * from table1 t1 inner_join table2 t2 on t1.id = t2.id\n",
    "t1 = [\n",
    "    {'id': 1, 'name': 'name1'},\n",
    "    {'id': 2, 'name': 'name2'},\n",
    "    {'id': 3, 'name': 'name3'},\n",
    "    {'id': 4, 'name': 'name4'},\n",
    "    {'id': 5, 'name': 'name5'},\n",
    "    {'id': 6, 'name': 'name6'},\n",
    "    {'id': 7, 'name': 'name7'},\n",
    "    {'id': 10, 'name': 'name8'},\n",
    "]\n",
    "t2 = [\n",
    "    {'id': 1, 'age': 21},\n",
    "    {'id': 2, 'age': 39},\n",
    "    {'id': 3, 'age': 43},\n",
    "    {'id': 4, 'age': 28},\n",
    "    {'id': 5, 'age': 19},\n",
    "    {'id': 6, 'age': 52},\n",
    "    {'id': 7, 'age': 36},\n",
    "    {'id': 8, 'age': 62},\n",
    "]\n",
    "df_t1 = pd.DataFrame(t1)\n",
    "df_t2 = pd.DataFrame(t2)\n",
    "df_t1.join(df_t2, on=\"id\", how=\"inner\", lsuffix=\"_left\", rsuffix=\"_right\")\n"
   ],
   "metadata": {
    "collapsed": false,
    "pycharm": {
     "name": "#%%\n",
     "is_executing": false
    }
   }
  },
  {
   "cell_type": "code",
   "execution_count": 18,
   "outputs": [
    {
     "data": {
      "text/plain": "    id   name   age\n0    1  name1   NaN\n1    2  name2   NaN\n2    3  name3   NaN\n3    4  name4   NaN\n4    5  name5   NaN\n5    6  name6   NaN\n6    7  name7   NaN\n7   10  name8   NaN\n8    1    NaN  21.0\n9    2    NaN  39.0\n10   3    NaN  43.0\n11   4    NaN  28.0\n12   5    NaN  19.0\n13   6    NaN  52.0\n14   7    NaN  36.0\n15   8    NaN  62.0",
      "text/html": "<div>\n<style scoped>\n    .dataframe tbody tr th:only-of-type {\n        vertical-align: middle;\n    }\n\n    .dataframe tbody tr th {\n        vertical-align: top;\n    }\n\n    .dataframe thead th {\n        text-align: right;\n    }\n</style>\n<table border=\"1\" class=\"dataframe\">\n  <thead>\n    <tr style=\"text-align: right;\">\n      <th></th>\n      <th>id</th>\n      <th>name</th>\n      <th>age</th>\n    </tr>\n  </thead>\n  <tbody>\n    <tr>\n      <th>0</th>\n      <td>1</td>\n      <td>name1</td>\n      <td>NaN</td>\n    </tr>\n    <tr>\n      <th>1</th>\n      <td>2</td>\n      <td>name2</td>\n      <td>NaN</td>\n    </tr>\n    <tr>\n      <th>2</th>\n      <td>3</td>\n      <td>name3</td>\n      <td>NaN</td>\n    </tr>\n    <tr>\n      <th>3</th>\n      <td>4</td>\n      <td>name4</td>\n      <td>NaN</td>\n    </tr>\n    <tr>\n      <th>4</th>\n      <td>5</td>\n      <td>name5</td>\n      <td>NaN</td>\n    </tr>\n    <tr>\n      <th>5</th>\n      <td>6</td>\n      <td>name6</td>\n      <td>NaN</td>\n    </tr>\n    <tr>\n      <th>6</th>\n      <td>7</td>\n      <td>name7</td>\n      <td>NaN</td>\n    </tr>\n    <tr>\n      <th>7</th>\n      <td>10</td>\n      <td>name8</td>\n      <td>NaN</td>\n    </tr>\n    <tr>\n      <th>8</th>\n      <td>1</td>\n      <td>NaN</td>\n      <td>21.0</td>\n    </tr>\n    <tr>\n      <th>9</th>\n      <td>2</td>\n      <td>NaN</td>\n      <td>39.0</td>\n    </tr>\n    <tr>\n      <th>10</th>\n      <td>3</td>\n      <td>NaN</td>\n      <td>43.0</td>\n    </tr>\n    <tr>\n      <th>11</th>\n      <td>4</td>\n      <td>NaN</td>\n      <td>28.0</td>\n    </tr>\n    <tr>\n      <th>12</th>\n      <td>5</td>\n      <td>NaN</td>\n      <td>19.0</td>\n    </tr>\n    <tr>\n      <th>13</th>\n      <td>6</td>\n      <td>NaN</td>\n      <td>52.0</td>\n    </tr>\n    <tr>\n      <th>14</th>\n      <td>7</td>\n      <td>NaN</td>\n      <td>36.0</td>\n    </tr>\n    <tr>\n      <th>15</th>\n      <td>8</td>\n      <td>NaN</td>\n      <td>62.0</td>\n    </tr>\n  </tbody>\n</table>\n</div>"
     },
     "metadata": {},
     "output_type": "execute_result",
     "execution_count": 18
    }
   ],
   "source": [
    "# 8. select * from t1 union select * from t2\n",
    "pd.concat([df_t1, df_t2], ignore_index=True).drop_duplicates().reset_index(drop=True)\n"
   ],
   "metadata": {
    "collapsed": false,
    "pycharm": {
     "name": "#%%\n",
     "is_executing": false
    }
   }
  },
  {
   "cell_type": "code",
   "execution_count": 19,
   "outputs": [
    {
     "data": {
      "text/plain": "   id   name\n0   1  name1\n1   2  name2\n2   3  name3\n3   4  name4\n4   5  name5\n5   6  name6\n6   7  name7",
      "text/html": "<div>\n<style scoped>\n    .dataframe tbody tr th:only-of-type {\n        vertical-align: middle;\n    }\n\n    .dataframe tbody tr th {\n        vertical-align: top;\n    }\n\n    .dataframe thead th {\n        text-align: right;\n    }\n</style>\n<table border=\"1\" class=\"dataframe\">\n  <thead>\n    <tr style=\"text-align: right;\">\n      <th></th>\n      <th>id</th>\n      <th>name</th>\n    </tr>\n  </thead>\n  <tbody>\n    <tr>\n      <th>0</th>\n      <td>1</td>\n      <td>name1</td>\n    </tr>\n    <tr>\n      <th>1</th>\n      <td>2</td>\n      <td>name2</td>\n    </tr>\n    <tr>\n      <th>2</th>\n      <td>3</td>\n      <td>name3</td>\n    </tr>\n    <tr>\n      <th>3</th>\n      <td>4</td>\n      <td>name4</td>\n    </tr>\n    <tr>\n      <th>4</th>\n      <td>5</td>\n      <td>name5</td>\n    </tr>\n    <tr>\n      <th>5</th>\n      <td>6</td>\n      <td>name6</td>\n    </tr>\n    <tr>\n      <th>6</th>\n      <td>7</td>\n      <td>name7</td>\n    </tr>\n  </tbody>\n</table>\n</div>"
     },
     "metadata": {},
     "output_type": "execute_result",
     "execution_count": 19
    }
   ],
   "source": [
    "# 9. delete from t1 where id=10\n",
    "df_t1_new = df_t1.drop(df_t1[df_t1.id == 10].index)\n",
    "df_t1_new"
   ],
   "metadata": {
    "collapsed": false,
    "pycharm": {
     "name": "#%%\n",
     "is_executing": false
    }
   }
  },
  {
   "cell_type": "code",
   "execution_count": 22,
   "outputs": [
    {
     "data": {
      "text/plain": "   id\n0   1\n1   2\n2   3\n3   4\n4   5\n5   6\n6   7\n7  10",
      "text/html": "<div>\n<style scoped>\n    .dataframe tbody tr th:only-of-type {\n        vertical-align: middle;\n    }\n\n    .dataframe tbody tr th {\n        vertical-align: top;\n    }\n\n    .dataframe thead th {\n        text-align: right;\n    }\n</style>\n<table border=\"1\" class=\"dataframe\">\n  <thead>\n    <tr style=\"text-align: right;\">\n      <th></th>\n      <th>id</th>\n    </tr>\n  </thead>\n  <tbody>\n    <tr>\n      <th>0</th>\n      <td>1</td>\n    </tr>\n    <tr>\n      <th>1</th>\n      <td>2</td>\n    </tr>\n    <tr>\n      <th>2</th>\n      <td>3</td>\n    </tr>\n    <tr>\n      <th>3</th>\n      <td>4</td>\n    </tr>\n    <tr>\n      <th>4</th>\n      <td>5</td>\n    </tr>\n    <tr>\n      <th>5</th>\n      <td>6</td>\n    </tr>\n    <tr>\n      <th>6</th>\n      <td>7</td>\n    </tr>\n    <tr>\n      <th>7</th>\n      <td>10</td>\n    </tr>\n  </tbody>\n</table>\n</div>"
     },
     "metadata": {},
     "output_type": "execute_result",
     "execution_count": 22
    }
   ],
   "source": [
    "# 10. alter table t1 drop column name\n",
    "df_t1_dc = df_t1.drop('name', axis=1)\n",
    "df_t1_dc\n"
   ],
   "metadata": {
    "collapsed": false,
    "pycharm": {
     "name": "#%%\n",
     "is_executing": false
    }
   }
  },
  {
   "cell_type": "code",
   "execution_count": null,
   "outputs": [],
   "source": [
    "\n"
   ],
   "metadata": {
    "collapsed": false,
    "pycharm": {
     "name": "#%%\n"
    }
   }
  },
  {
   "cell_type": "code",
   "execution_count": null,
   "outputs": [],
   "source": [
    "\n"
   ],
   "metadata": {
    "collapsed": false,
    "pycharm": {
     "name": "#%%\n"
    }
   }
  },
  {
   "cell_type": "code",
   "execution_count": null,
   "outputs": [],
   "source": [
    "\n"
   ],
   "metadata": {
    "collapsed": false,
    "pycharm": {
     "name": "#%%\n"
    }
   }
  },
  {
   "cell_type": "code",
   "execution_count": null,
   "outputs": [],
   "source": [
    "\n"
   ],
   "metadata": {
    "collapsed": false,
    "pycharm": {
     "name": "#%%\n"
    }
   }
  },
  {
   "cell_type": "code",
   "execution_count": null,
   "outputs": [],
   "source": [
    "\n"
   ],
   "metadata": {
    "collapsed": false,
    "pycharm": {
     "name": "#%%\n"
    }
   }
  },
  {
   "cell_type": "code",
   "execution_count": null,
   "outputs": [],
   "source": [
    "\n"
   ],
   "metadata": {
    "collapsed": false,
    "pycharm": {
     "name": "#%%\n"
    }
   }
  },
  {
   "cell_type": "code",
   "execution_count": null,
   "outputs": [],
   "source": [
    "\n"
   ],
   "metadata": {
    "collapsed": false,
    "pycharm": {
     "name": "#%%\n"
    }
   }
  },
  {
   "cell_type": "code",
   "execution_count": null,
   "outputs": [],
   "source": [
    "\n"
   ],
   "metadata": {
    "collapsed": false,
    "pycharm": {
     "name": "#%%\n"
    }
   }
  },
  {
   "cell_type": "code",
   "execution_count": null,
   "outputs": [],
   "source": [
    "\n"
   ],
   "metadata": {
    "collapsed": false,
    "pycharm": {
     "name": "#%%\n"
    }
   }
  },
  {
   "cell_type": "code",
   "execution_count": null,
   "outputs": [],
   "source": [
    "\n"
   ],
   "metadata": {
    "collapsed": false,
    "pycharm": {
     "name": "#%%\n"
    }
   }
  },
  {
   "cell_type": "code",
   "execution_count": null,
   "outputs": [],
   "source": [
    "\n"
   ],
   "metadata": {
    "collapsed": false,
    "pycharm": {
     "name": "#%%\n"
    }
   }
  },
  {
   "cell_type": "code",
   "execution_count": null,
   "outputs": [],
   "source": [
    "\n"
   ],
   "metadata": {
    "collapsed": false,
    "pycharm": {
     "name": "#%%\n"
    }
   }
  },
  {
   "cell_type": "code",
   "execution_count": null,
   "outputs": [],
   "source": [
    "\n"
   ],
   "metadata": {
    "collapsed": false,
    "pycharm": {
     "name": "#%%\n"
    }
   }
  },
  {
   "cell_type": "code",
   "execution_count": null,
   "outputs": [],
   "source": [
    "\n"
   ],
   "metadata": {
    "collapsed": false,
    "pycharm": {
     "name": "#%%\n"
    }
   }
  },
  {
   "cell_type": "code",
   "execution_count": null,
   "outputs": [],
   "source": [
    "\n"
   ],
   "metadata": {
    "collapsed": false,
    "pycharm": {
     "name": "#%%\n"
    }
   }
  },
  {
   "cell_type": "code",
   "execution_count": null,
   "outputs": [],
   "source": [
    "\n"
   ],
   "metadata": {
    "collapsed": false,
    "pycharm": {
     "name": "#%%\n"
    }
   }
  },
  {
   "cell_type": "code",
   "execution_count": null,
   "outputs": [],
   "source": [
    "\n"
   ],
   "metadata": {
    "collapsed": false,
    "pycharm": {
     "name": "#%%\n"
    }
   }
  },
  {
   "cell_type": "code",
   "execution_count": null,
   "outputs": [],
   "source": [
    "\n"
   ],
   "metadata": {
    "collapsed": false,
    "pycharm": {
     "name": "#%%\n"
    }
   }
  },
  {
   "cell_type": "code",
   "execution_count": null,
   "outputs": [],
   "source": [
    "\n"
   ],
   "metadata": {
    "collapsed": false,
    "pycharm": {
     "name": "#%%\n"
    }
   }
  },
  {
   "cell_type": "code",
   "execution_count": null,
   "outputs": [],
   "source": [
    "\n"
   ],
   "metadata": {
    "collapsed": false,
    "pycharm": {
     "name": "#%%\n"
    }
   }
  },
  {
   "cell_type": "code",
   "execution_count": null,
   "outputs": [],
   "source": [
    "\n"
   ],
   "metadata": {
    "collapsed": false,
    "pycharm": {
     "name": "#%%\n"
    }
   }
  },
  {
   "cell_type": "code",
   "execution_count": null,
   "outputs": [],
   "source": [
    "\n"
   ],
   "metadata": {
    "collapsed": false,
    "pycharm": {
     "name": "#%%\n"
    }
   }
  },
  {
   "cell_type": "code",
   "execution_count": null,
   "outputs": [],
   "source": [
    "\n"
   ],
   "metadata": {
    "collapsed": false,
    "pycharm": {
     "name": "#%%\n"
    }
   }
  },
  {
   "cell_type": "code",
   "execution_count": null,
   "outputs": [],
   "source": [
    "\n"
   ],
   "metadata": {
    "collapsed": false,
    "pycharm": {
     "name": "#%%\n"
    }
   }
  },
  {
   "cell_type": "code",
   "execution_count": null,
   "outputs": [],
   "source": [
    "\n"
   ],
   "metadata": {
    "collapsed": false,
    "pycharm": {
     "name": "#%%\n"
    }
   }
  },
  {
   "cell_type": "code",
   "execution_count": null,
   "outputs": [],
   "source": [
    "\n"
   ],
   "metadata": {
    "collapsed": false,
    "pycharm": {
     "name": "#%%\n"
    }
   }
  },
  {
   "cell_type": "code",
   "execution_count": null,
   "outputs": [],
   "source": [
    "\n"
   ],
   "metadata": {
    "collapsed": false,
    "pycharm": {
     "name": "#%%\n"
    }
   }
  }
 ]
}